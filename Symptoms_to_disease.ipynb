{
  "nbformat": 4,
  "nbformat_minor": 0,
  "metadata": {
    "colab": {
      "name": "Symptoms_to_disease.ipynb",
      "provenance": [],
      "collapsed_sections": []
    },
    "kernelspec": {
      "name": "python3",
      "display_name": "Python 3"
    },
    "language_info": {
      "name": "python"
    }
  },
  "cells": [
    {
      "cell_type": "code",
      "execution_count": null,
      "metadata": {
        "id": "XXwC808bBk2p"
      },
      "outputs": [],
      "source": [
        "import pandas as pd\n",
        "import numpy as np\n",
        "import sklearn\n",
        "import pickle\n",
        "import matplotlib.pyplot as plt"
      ]
    },
    {
      "cell_type": "code",
      "source": [
        "df = pd.read_csv(\"/content/dataset.csv\")"
      ],
      "metadata": {
        "id": "ATnvkqFkCXTS"
      },
      "execution_count": null,
      "outputs": []
    },
    {
      "cell_type": "code",
      "source": [
        "df.info()"
      ],
      "metadata": {
        "colab": {
          "base_uri": "https://localhost:8080/"
        },
        "id": "GYUg2cbrCisA",
        "outputId": "f36c1bc6-96c5-4be6-f9f6-a73199a76178"
      },
      "execution_count": null,
      "outputs": [
        {
          "output_type": "stream",
          "name": "stdout",
          "text": [
            "<class 'pandas.core.frame.DataFrame'>\n",
            "RangeIndex: 4920 entries, 0 to 4919\n",
            "Data columns (total 18 columns):\n",
            " #   Column      Non-Null Count  Dtype \n",
            "---  ------      --------------  ----- \n",
            " 0   Disease     4920 non-null   object\n",
            " 1   Symptom_1   4920 non-null   object\n",
            " 2   Symptom_2   4920 non-null   object\n",
            " 3   Symptom_3   4920 non-null   object\n",
            " 4   Symptom_4   4572 non-null   object\n",
            " 5   Symptom_5   3714 non-null   object\n",
            " 6   Symptom_6   2934 non-null   object\n",
            " 7   Symptom_7   2268 non-null   object\n",
            " 8   Symptom_8   1944 non-null   object\n",
            " 9   Symptom_9   1692 non-null   object\n",
            " 10  Symptom_10  1512 non-null   object\n",
            " 11  Symptom_11  1194 non-null   object\n",
            " 12  Symptom_12  744 non-null    object\n",
            " 13  Symptom_13  504 non-null    object\n",
            " 14  Symptom_14  306 non-null    object\n",
            " 15  Symptom_15  240 non-null    object\n",
            " 16  Symptom_16  192 non-null    object\n",
            " 17  Symptom_17  72 non-null     object\n",
            "dtypes: object(18)\n",
            "memory usage: 692.0+ KB\n"
          ]
        }
      ]
    },
    {
      "cell_type": "code",
      "source": [
        "df = df.drop_duplicates()"
      ],
      "metadata": {
        "id": "lnq3zvu1CnBb"
      },
      "execution_count": null,
      "outputs": []
    },
    {
      "cell_type": "code",
      "source": [
        "df"
      ],
      "metadata": {
        "colab": {
          "base_uri": "https://localhost:8080/",
          "height": 574
        },
        "id": "p1u1fzytCpM-",
        "outputId": "005f17bd-288b-4a6e-e092-acdf5664073f"
      },
      "execution_count": null,
      "outputs": [
        {
          "output_type": "execute_result",
          "data": {
            "text/plain": [
              "              Disease    Symptom_1              Symptom_2  \\\n",
              "0    Fungal infection      itching              skin_rash   \n",
              "1    Fungal infection    skin_rash   nodal_skin_eruptions   \n",
              "2    Fungal infection      itching   nodal_skin_eruptions   \n",
              "3    Fungal infection      itching              skin_rash   \n",
              "4    Fungal infection      itching              skin_rash   \n",
              "..                ...          ...                    ...   \n",
              "402          Impetigo   high_fever                blister   \n",
              "403          Impetigo    skin_rash                blister   \n",
              "405          Impetigo    skin_rash             high_fever   \n",
              "406          Impetigo    skin_rash             high_fever   \n",
              "407          Impetigo    skin_rash             high_fever   \n",
              "\n",
              "                 Symptom_3              Symptom_4 Symptom_5 Symptom_6  \\\n",
              "0     nodal_skin_eruptions    dischromic _patches       NaN       NaN   \n",
              "1      dischromic _patches                    NaN       NaN       NaN   \n",
              "2      dischromic _patches                    NaN       NaN       NaN   \n",
              "3      dischromic _patches                    NaN       NaN       NaN   \n",
              "4     nodal_skin_eruptions                    NaN       NaN       NaN   \n",
              "..                     ...                    ...       ...       ...   \n",
              "402   red_sore_around_nose      yellow_crust_ooze       NaN       NaN   \n",
              "403   red_sore_around_nose      yellow_crust_ooze       NaN       NaN   \n",
              "405   red_sore_around_nose      yellow_crust_ooze       NaN       NaN   \n",
              "406                blister      yellow_crust_ooze       NaN       NaN   \n",
              "407                blister   red_sore_around_nose       NaN       NaN   \n",
              "\n",
              "    Symptom_7 Symptom_8 Symptom_9 Symptom_10 Symptom_11 Symptom_12 Symptom_13  \\\n",
              "0         NaN       NaN       NaN        NaN        NaN        NaN        NaN   \n",
              "1         NaN       NaN       NaN        NaN        NaN        NaN        NaN   \n",
              "2         NaN       NaN       NaN        NaN        NaN        NaN        NaN   \n",
              "3         NaN       NaN       NaN        NaN        NaN        NaN        NaN   \n",
              "4         NaN       NaN       NaN        NaN        NaN        NaN        NaN   \n",
              "..        ...       ...       ...        ...        ...        ...        ...   \n",
              "402       NaN       NaN       NaN        NaN        NaN        NaN        NaN   \n",
              "403       NaN       NaN       NaN        NaN        NaN        NaN        NaN   \n",
              "405       NaN       NaN       NaN        NaN        NaN        NaN        NaN   \n",
              "406       NaN       NaN       NaN        NaN        NaN        NaN        NaN   \n",
              "407       NaN       NaN       NaN        NaN        NaN        NaN        NaN   \n",
              "\n",
              "    Symptom_14 Symptom_15 Symptom_16 Symptom_17  \n",
              "0          NaN        NaN        NaN        NaN  \n",
              "1          NaN        NaN        NaN        NaN  \n",
              "2          NaN        NaN        NaN        NaN  \n",
              "3          NaN        NaN        NaN        NaN  \n",
              "4          NaN        NaN        NaN        NaN  \n",
              "..         ...        ...        ...        ...  \n",
              "402        NaN        NaN        NaN        NaN  \n",
              "403        NaN        NaN        NaN        NaN  \n",
              "405        NaN        NaN        NaN        NaN  \n",
              "406        NaN        NaN        NaN        NaN  \n",
              "407        NaN        NaN        NaN        NaN  \n",
              "\n",
              "[304 rows x 18 columns]"
            ],
            "text/html": [
              "\n",
              "  <div id=\"df-83cc65e8-9736-4857-9c1f-e9847e2c595e\">\n",
              "    <div class=\"colab-df-container\">\n",
              "      <div>\n",
              "<style scoped>\n",
              "    .dataframe tbody tr th:only-of-type {\n",
              "        vertical-align: middle;\n",
              "    }\n",
              "\n",
              "    .dataframe tbody tr th {\n",
              "        vertical-align: top;\n",
              "    }\n",
              "\n",
              "    .dataframe thead th {\n",
              "        text-align: right;\n",
              "    }\n",
              "</style>\n",
              "<table border=\"1\" class=\"dataframe\">\n",
              "  <thead>\n",
              "    <tr style=\"text-align: right;\">\n",
              "      <th></th>\n",
              "      <th>Disease</th>\n",
              "      <th>Symptom_1</th>\n",
              "      <th>Symptom_2</th>\n",
              "      <th>Symptom_3</th>\n",
              "      <th>Symptom_4</th>\n",
              "      <th>Symptom_5</th>\n",
              "      <th>Symptom_6</th>\n",
              "      <th>Symptom_7</th>\n",
              "      <th>Symptom_8</th>\n",
              "      <th>Symptom_9</th>\n",
              "      <th>Symptom_10</th>\n",
              "      <th>Symptom_11</th>\n",
              "      <th>Symptom_12</th>\n",
              "      <th>Symptom_13</th>\n",
              "      <th>Symptom_14</th>\n",
              "      <th>Symptom_15</th>\n",
              "      <th>Symptom_16</th>\n",
              "      <th>Symptom_17</th>\n",
              "    </tr>\n",
              "  </thead>\n",
              "  <tbody>\n",
              "    <tr>\n",
              "      <th>0</th>\n",
              "      <td>Fungal infection</td>\n",
              "      <td>itching</td>\n",
              "      <td>skin_rash</td>\n",
              "      <td>nodal_skin_eruptions</td>\n",
              "      <td>dischromic _patches</td>\n",
              "      <td>NaN</td>\n",
              "      <td>NaN</td>\n",
              "      <td>NaN</td>\n",
              "      <td>NaN</td>\n",
              "      <td>NaN</td>\n",
              "      <td>NaN</td>\n",
              "      <td>NaN</td>\n",
              "      <td>NaN</td>\n",
              "      <td>NaN</td>\n",
              "      <td>NaN</td>\n",
              "      <td>NaN</td>\n",
              "      <td>NaN</td>\n",
              "      <td>NaN</td>\n",
              "    </tr>\n",
              "    <tr>\n",
              "      <th>1</th>\n",
              "      <td>Fungal infection</td>\n",
              "      <td>skin_rash</td>\n",
              "      <td>nodal_skin_eruptions</td>\n",
              "      <td>dischromic _patches</td>\n",
              "      <td>NaN</td>\n",
              "      <td>NaN</td>\n",
              "      <td>NaN</td>\n",
              "      <td>NaN</td>\n",
              "      <td>NaN</td>\n",
              "      <td>NaN</td>\n",
              "      <td>NaN</td>\n",
              "      <td>NaN</td>\n",
              "      <td>NaN</td>\n",
              "      <td>NaN</td>\n",
              "      <td>NaN</td>\n",
              "      <td>NaN</td>\n",
              "      <td>NaN</td>\n",
              "      <td>NaN</td>\n",
              "    </tr>\n",
              "    <tr>\n",
              "      <th>2</th>\n",
              "      <td>Fungal infection</td>\n",
              "      <td>itching</td>\n",
              "      <td>nodal_skin_eruptions</td>\n",
              "      <td>dischromic _patches</td>\n",
              "      <td>NaN</td>\n",
              "      <td>NaN</td>\n",
              "      <td>NaN</td>\n",
              "      <td>NaN</td>\n",
              "      <td>NaN</td>\n",
              "      <td>NaN</td>\n",
              "      <td>NaN</td>\n",
              "      <td>NaN</td>\n",
              "      <td>NaN</td>\n",
              "      <td>NaN</td>\n",
              "      <td>NaN</td>\n",
              "      <td>NaN</td>\n",
              "      <td>NaN</td>\n",
              "      <td>NaN</td>\n",
              "    </tr>\n",
              "    <tr>\n",
              "      <th>3</th>\n",
              "      <td>Fungal infection</td>\n",
              "      <td>itching</td>\n",
              "      <td>skin_rash</td>\n",
              "      <td>dischromic _patches</td>\n",
              "      <td>NaN</td>\n",
              "      <td>NaN</td>\n",
              "      <td>NaN</td>\n",
              "      <td>NaN</td>\n",
              "      <td>NaN</td>\n",
              "      <td>NaN</td>\n",
              "      <td>NaN</td>\n",
              "      <td>NaN</td>\n",
              "      <td>NaN</td>\n",
              "      <td>NaN</td>\n",
              "      <td>NaN</td>\n",
              "      <td>NaN</td>\n",
              "      <td>NaN</td>\n",
              "      <td>NaN</td>\n",
              "    </tr>\n",
              "    <tr>\n",
              "      <th>4</th>\n",
              "      <td>Fungal infection</td>\n",
              "      <td>itching</td>\n",
              "      <td>skin_rash</td>\n",
              "      <td>nodal_skin_eruptions</td>\n",
              "      <td>NaN</td>\n",
              "      <td>NaN</td>\n",
              "      <td>NaN</td>\n",
              "      <td>NaN</td>\n",
              "      <td>NaN</td>\n",
              "      <td>NaN</td>\n",
              "      <td>NaN</td>\n",
              "      <td>NaN</td>\n",
              "      <td>NaN</td>\n",
              "      <td>NaN</td>\n",
              "      <td>NaN</td>\n",
              "      <td>NaN</td>\n",
              "      <td>NaN</td>\n",
              "      <td>NaN</td>\n",
              "    </tr>\n",
              "    <tr>\n",
              "      <th>...</th>\n",
              "      <td>...</td>\n",
              "      <td>...</td>\n",
              "      <td>...</td>\n",
              "      <td>...</td>\n",
              "      <td>...</td>\n",
              "      <td>...</td>\n",
              "      <td>...</td>\n",
              "      <td>...</td>\n",
              "      <td>...</td>\n",
              "      <td>...</td>\n",
              "      <td>...</td>\n",
              "      <td>...</td>\n",
              "      <td>...</td>\n",
              "      <td>...</td>\n",
              "      <td>...</td>\n",
              "      <td>...</td>\n",
              "      <td>...</td>\n",
              "      <td>...</td>\n",
              "    </tr>\n",
              "    <tr>\n",
              "      <th>402</th>\n",
              "      <td>Impetigo</td>\n",
              "      <td>high_fever</td>\n",
              "      <td>blister</td>\n",
              "      <td>red_sore_around_nose</td>\n",
              "      <td>yellow_crust_ooze</td>\n",
              "      <td>NaN</td>\n",
              "      <td>NaN</td>\n",
              "      <td>NaN</td>\n",
              "      <td>NaN</td>\n",
              "      <td>NaN</td>\n",
              "      <td>NaN</td>\n",
              "      <td>NaN</td>\n",
              "      <td>NaN</td>\n",
              "      <td>NaN</td>\n",
              "      <td>NaN</td>\n",
              "      <td>NaN</td>\n",
              "      <td>NaN</td>\n",
              "      <td>NaN</td>\n",
              "    </tr>\n",
              "    <tr>\n",
              "      <th>403</th>\n",
              "      <td>Impetigo</td>\n",
              "      <td>skin_rash</td>\n",
              "      <td>blister</td>\n",
              "      <td>red_sore_around_nose</td>\n",
              "      <td>yellow_crust_ooze</td>\n",
              "      <td>NaN</td>\n",
              "      <td>NaN</td>\n",
              "      <td>NaN</td>\n",
              "      <td>NaN</td>\n",
              "      <td>NaN</td>\n",
              "      <td>NaN</td>\n",
              "      <td>NaN</td>\n",
              "      <td>NaN</td>\n",
              "      <td>NaN</td>\n",
              "      <td>NaN</td>\n",
              "      <td>NaN</td>\n",
              "      <td>NaN</td>\n",
              "      <td>NaN</td>\n",
              "    </tr>\n",
              "    <tr>\n",
              "      <th>405</th>\n",
              "      <td>Impetigo</td>\n",
              "      <td>skin_rash</td>\n",
              "      <td>high_fever</td>\n",
              "      <td>red_sore_around_nose</td>\n",
              "      <td>yellow_crust_ooze</td>\n",
              "      <td>NaN</td>\n",
              "      <td>NaN</td>\n",
              "      <td>NaN</td>\n",
              "      <td>NaN</td>\n",
              "      <td>NaN</td>\n",
              "      <td>NaN</td>\n",
              "      <td>NaN</td>\n",
              "      <td>NaN</td>\n",
              "      <td>NaN</td>\n",
              "      <td>NaN</td>\n",
              "      <td>NaN</td>\n",
              "      <td>NaN</td>\n",
              "      <td>NaN</td>\n",
              "    </tr>\n",
              "    <tr>\n",
              "      <th>406</th>\n",
              "      <td>Impetigo</td>\n",
              "      <td>skin_rash</td>\n",
              "      <td>high_fever</td>\n",
              "      <td>blister</td>\n",
              "      <td>yellow_crust_ooze</td>\n",
              "      <td>NaN</td>\n",
              "      <td>NaN</td>\n",
              "      <td>NaN</td>\n",
              "      <td>NaN</td>\n",
              "      <td>NaN</td>\n",
              "      <td>NaN</td>\n",
              "      <td>NaN</td>\n",
              "      <td>NaN</td>\n",
              "      <td>NaN</td>\n",
              "      <td>NaN</td>\n",
              "      <td>NaN</td>\n",
              "      <td>NaN</td>\n",
              "      <td>NaN</td>\n",
              "    </tr>\n",
              "    <tr>\n",
              "      <th>407</th>\n",
              "      <td>Impetigo</td>\n",
              "      <td>skin_rash</td>\n",
              "      <td>high_fever</td>\n",
              "      <td>blister</td>\n",
              "      <td>red_sore_around_nose</td>\n",
              "      <td>NaN</td>\n",
              "      <td>NaN</td>\n",
              "      <td>NaN</td>\n",
              "      <td>NaN</td>\n",
              "      <td>NaN</td>\n",
              "      <td>NaN</td>\n",
              "      <td>NaN</td>\n",
              "      <td>NaN</td>\n",
              "      <td>NaN</td>\n",
              "      <td>NaN</td>\n",
              "      <td>NaN</td>\n",
              "      <td>NaN</td>\n",
              "      <td>NaN</td>\n",
              "    </tr>\n",
              "  </tbody>\n",
              "</table>\n",
              "<p>304 rows × 18 columns</p>\n",
              "</div>\n",
              "      <button class=\"colab-df-convert\" onclick=\"convertToInteractive('df-83cc65e8-9736-4857-9c1f-e9847e2c595e')\"\n",
              "              title=\"Convert this dataframe to an interactive table.\"\n",
              "              style=\"display:none;\">\n",
              "        \n",
              "  <svg xmlns=\"http://www.w3.org/2000/svg\" height=\"24px\"viewBox=\"0 0 24 24\"\n",
              "       width=\"24px\">\n",
              "    <path d=\"M0 0h24v24H0V0z\" fill=\"none\"/>\n",
              "    <path d=\"M18.56 5.44l.94 2.06.94-2.06 2.06-.94-2.06-.94-.94-2.06-.94 2.06-2.06.94zm-11 1L8.5 8.5l.94-2.06 2.06-.94-2.06-.94L8.5 2.5l-.94 2.06-2.06.94zm10 10l.94 2.06.94-2.06 2.06-.94-2.06-.94-.94-2.06-.94 2.06-2.06.94z\"/><path d=\"M17.41 7.96l-1.37-1.37c-.4-.4-.92-.59-1.43-.59-.52 0-1.04.2-1.43.59L10.3 9.45l-7.72 7.72c-.78.78-.78 2.05 0 2.83L4 21.41c.39.39.9.59 1.41.59.51 0 1.02-.2 1.41-.59l7.78-7.78 2.81-2.81c.8-.78.8-2.07 0-2.86zM5.41 20L4 18.59l7.72-7.72 1.47 1.35L5.41 20z\"/>\n",
              "  </svg>\n",
              "      </button>\n",
              "      \n",
              "  <style>\n",
              "    .colab-df-container {\n",
              "      display:flex;\n",
              "      flex-wrap:wrap;\n",
              "      gap: 12px;\n",
              "    }\n",
              "\n",
              "    .colab-df-convert {\n",
              "      background-color: #E8F0FE;\n",
              "      border: none;\n",
              "      border-radius: 50%;\n",
              "      cursor: pointer;\n",
              "      display: none;\n",
              "      fill: #1967D2;\n",
              "      height: 32px;\n",
              "      padding: 0 0 0 0;\n",
              "      width: 32px;\n",
              "    }\n",
              "\n",
              "    .colab-df-convert:hover {\n",
              "      background-color: #E2EBFA;\n",
              "      box-shadow: 0px 1px 2px rgba(60, 64, 67, 0.3), 0px 1px 3px 1px rgba(60, 64, 67, 0.15);\n",
              "      fill: #174EA6;\n",
              "    }\n",
              "\n",
              "    [theme=dark] .colab-df-convert {\n",
              "      background-color: #3B4455;\n",
              "      fill: #D2E3FC;\n",
              "    }\n",
              "\n",
              "    [theme=dark] .colab-df-convert:hover {\n",
              "      background-color: #434B5C;\n",
              "      box-shadow: 0px 1px 3px 1px rgba(0, 0, 0, 0.15);\n",
              "      filter: drop-shadow(0px 1px 2px rgba(0, 0, 0, 0.3));\n",
              "      fill: #FFFFFF;\n",
              "    }\n",
              "  </style>\n",
              "\n",
              "      <script>\n",
              "        const buttonEl =\n",
              "          document.querySelector('#df-83cc65e8-9736-4857-9c1f-e9847e2c595e button.colab-df-convert');\n",
              "        buttonEl.style.display =\n",
              "          google.colab.kernel.accessAllowed ? 'block' : 'none';\n",
              "\n",
              "        async function convertToInteractive(key) {\n",
              "          const element = document.querySelector('#df-83cc65e8-9736-4857-9c1f-e9847e2c595e');\n",
              "          const dataTable =\n",
              "            await google.colab.kernel.invokeFunction('convertToInteractive',\n",
              "                                                     [key], {});\n",
              "          if (!dataTable) return;\n",
              "\n",
              "          const docLinkHtml = 'Like what you see? Visit the ' +\n",
              "            '<a target=\"_blank\" href=https://colab.research.google.com/notebooks/data_table.ipynb>data table notebook</a>'\n",
              "            + ' to learn more about interactive tables.';\n",
              "          element.innerHTML = '';\n",
              "          dataTable['output_type'] = 'display_data';\n",
              "          await google.colab.output.renderOutput(dataTable, element);\n",
              "          const docLink = document.createElement('div');\n",
              "          docLink.innerHTML = docLinkHtml;\n",
              "          element.appendChild(docLink);\n",
              "        }\n",
              "      </script>\n",
              "    </div>\n",
              "  </div>\n",
              "  "
            ]
          },
          "metadata": {},
          "execution_count": 44
        }
      ]
    },
    {
      "cell_type": "code",
      "source": [
        "symptoms = np.concatenate((df.Symptom_1.unique(), df.Symptom_2.unique(), df.Symptom_3.unique(), df.Symptom_4.unique(), \n",
        "                          df.Symptom_5.unique(), df.Symptom_6.unique(), df.Symptom_7.unique(), df.Symptom_8.unique(), \n",
        "                          df.Symptom_9.unique(), df.Symptom_10.unique(), df.Symptom_11.unique(), df.Symptom_12.unique(), \n",
        "                          df.Symptom_13.unique(), df.Symptom_14.unique(), df.Symptom_15.unique(), df.Symptom_16.unique(), \n",
        "                          df.Symptom_17.unique()))"
      ],
      "metadata": {
        "id": "_gm-l4mGCpVB"
      },
      "execution_count": null,
      "outputs": []
    },
    {
      "cell_type": "code",
      "source": [
        "symptoms_unique = list((set(symptoms)))"
      ],
      "metadata": {
        "id": "vNxVv8YtCvSA"
      },
      "execution_count": null,
      "outputs": []
    },
    {
      "cell_type": "code",
      "source": [
        "len(symptoms_unique)"
      ],
      "metadata": {
        "colab": {
          "base_uri": "https://localhost:8080/"
        },
        "id": "LlTscs1vCx2Y",
        "outputId": "37954e9f-8151-4dd7-cd26-d5dc148b0d62"
      },
      "execution_count": null,
      "outputs": [
        {
          "output_type": "execute_result",
          "data": {
            "text/plain": [
              "132"
            ]
          },
          "metadata": {},
          "execution_count": 47
        }
      ]
    },
    {
      "cell_type": "code",
      "source": [
        "i = 18\n",
        "for each in symptoms_unique:\n",
        "    df.insert(i, each, 0)\n",
        "    i = i + 1"
      ],
      "metadata": {
        "colab": {
          "base_uri": "https://localhost:8080/"
        },
        "id": "hO89qFXgC3r1",
        "outputId": "0ef6c84c-b2a0-44a6-8040-2abfcfd037aa"
      },
      "execution_count": null,
      "outputs": [
        {
          "output_type": "stream",
          "name": "stderr",
          "text": [
            "/usr/local/lib/python3.7/dist-packages/IPython/core/interactiveshell.py:2822: PerformanceWarning: DataFrame is highly fragmented.  This is usually the result of calling `frame.insert` many times, which has poor performance.  Consider joining all columns at once using pd.concat(axis=1) instead.  To get a de-fragmented frame, use `newframe = frame.copy()`\n",
            "  if self.run_code(code, result):\n"
          ]
        }
      ]
    },
    {
      "cell_type": "code",
      "source": [
        "df = df.fillna(0)"
      ],
      "metadata": {
        "id": "lkq-yH5KC67F"
      },
      "execution_count": null,
      "outputs": []
    },
    {
      "cell_type": "code",
      "source": [
        "for index, row in df.iterrows(): \n",
        "    disease_symptoms = [symptom for symptom in list(row)[1:] if symptom != 0]\n",
        "    for each in disease_symptoms: \n",
        "        df.at[index, each] = 1"
      ],
      "metadata": {
        "id": "CxM3JFmzC8mM"
      },
      "execution_count": null,
      "outputs": []
    },
    {
      "cell_type": "code",
      "source": [
        "df = df.drop(columns = ['Symptom_1', 'Symptom_2', 'Symptom_3', 'Symptom_4', 'Symptom_5', 'Symptom_6', 'Symptom_7', 'Symptom_8', \n",
        "             'Symptom_9', 'Symptom_10', 'Symptom_11', 'Symptom_12', 'Symptom_13', 'Symptom_14', 'Symptom_15', 'Symptom_16'\n",
        "             , 'Symptom_17'])"
      ],
      "metadata": {
        "id": "t3mfVxhlC-a0"
      },
      "execution_count": null,
      "outputs": []
    },
    {
      "cell_type": "code",
      "source": [
        "df = df.loc[:, df.columns.notnull()]\n",
        "df.columns = df.columns.str.replace(' ', '')\n",
        "df = df.reindex(sorted(df.columns), axis=1)"
      ],
      "metadata": {
        "id": "Ycg7IraiDAtE"
      },
      "execution_count": null,
      "outputs": []
    },
    {
      "cell_type": "code",
      "source": [
        "list(df.columns)"
      ],
      "metadata": {
        "colab": {
          "base_uri": "https://localhost:8080/"
        },
        "id": "q8aMJOotDCl2",
        "outputId": "0c2bc51e-7367-41b0-a118-981a8a679e44"
      },
      "execution_count": null,
      "outputs": [
        {
          "output_type": "execute_result",
          "data": {
            "text/plain": [
              "['Disease',\n",
              " 'abdominal_pain',\n",
              " 'abnormal_menstruation',\n",
              " 'acidity',\n",
              " 'acute_liver_failure',\n",
              " 'altered_sensorium',\n",
              " 'anxiety',\n",
              " 'back_pain',\n",
              " 'belly_pain',\n",
              " 'blackheads',\n",
              " 'bladder_discomfort',\n",
              " 'blister',\n",
              " 'blood_in_sputum',\n",
              " 'bloody_stool',\n",
              " 'blurred_and_distorted_vision',\n",
              " 'breathlessness',\n",
              " 'brittle_nails',\n",
              " 'bruising',\n",
              " 'burning_micturition',\n",
              " 'chest_pain',\n",
              " 'chills',\n",
              " 'cold_hands_and_feets',\n",
              " 'coma',\n",
              " 'congestion',\n",
              " 'constipation',\n",
              " 'continuous_feel_of_urine',\n",
              " 'continuous_sneezing',\n",
              " 'cough',\n",
              " 'cramps',\n",
              " 'dark_urine',\n",
              " 'dehydration',\n",
              " 'depression',\n",
              " 'diarrhoea',\n",
              " 'dischromic_patches',\n",
              " 'distention_of_abdomen',\n",
              " 'dizziness',\n",
              " 'drying_and_tingling_lips',\n",
              " 'enlarged_thyroid',\n",
              " 'excessive_hunger',\n",
              " 'extra_marital_contacts',\n",
              " 'family_history',\n",
              " 'fast_heart_rate',\n",
              " 'fatigue',\n",
              " 'fluid_overload',\n",
              " 'foul_smell_ofurine',\n",
              " 'headache',\n",
              " 'high_fever',\n",
              " 'hip_joint_pain',\n",
              " 'history_of_alcohol_consumption',\n",
              " 'increased_appetite',\n",
              " 'indigestion',\n",
              " 'inflammatory_nails',\n",
              " 'internal_itching',\n",
              " 'irregular_sugar_level',\n",
              " 'irritability',\n",
              " 'irritation_in_anus',\n",
              " 'itching',\n",
              " 'joint_pain',\n",
              " 'knee_pain',\n",
              " 'lack_of_concentration',\n",
              " 'lethargy',\n",
              " 'loss_of_appetite',\n",
              " 'loss_of_balance',\n",
              " 'loss_of_smell',\n",
              " 'malaise',\n",
              " 'mild_fever',\n",
              " 'mood_swings',\n",
              " 'movement_stiffness',\n",
              " 'mucoid_sputum',\n",
              " 'muscle_pain',\n",
              " 'muscle_wasting',\n",
              " 'muscle_weakness',\n",
              " 'nausea',\n",
              " 'neck_pain',\n",
              " 'nodal_skin_eruptions',\n",
              " 'obesity',\n",
              " 'pain_behind_the_eyes',\n",
              " 'pain_during_bowel_movements',\n",
              " 'pain_in_anal_region',\n",
              " 'painful_walking',\n",
              " 'palpitations',\n",
              " 'passage_of_gases',\n",
              " 'patches_in_throat',\n",
              " 'phlegm',\n",
              " 'polyuria',\n",
              " 'prominent_veins_on_calf',\n",
              " 'puffy_face_and_eyes',\n",
              " 'pus_filled_pimples',\n",
              " 'receiving_blood_transfusion',\n",
              " 'receiving_unsterile_injections',\n",
              " 'red_sore_around_nose',\n",
              " 'red_spots_over_body',\n",
              " 'redness_of_eyes',\n",
              " 'restlessness',\n",
              " 'runny_nose',\n",
              " 'rusty_sputum',\n",
              " 'scurring',\n",
              " 'shivering',\n",
              " 'silver_like_dusting',\n",
              " 'sinus_pressure',\n",
              " 'skin_peeling',\n",
              " 'skin_rash',\n",
              " 'slurred_speech',\n",
              " 'small_dents_in_nails',\n",
              " 'spinning_movements',\n",
              " 'spotting_urination',\n",
              " 'stiff_neck',\n",
              " 'stomach_bleeding',\n",
              " 'stomach_pain',\n",
              " 'sunken_eyes',\n",
              " 'sweating',\n",
              " 'swelled_lymph_nodes',\n",
              " 'swelling_joints',\n",
              " 'swelling_of_stomach',\n",
              " 'swollen_blood_vessels',\n",
              " 'swollen_extremeties',\n",
              " 'swollen_legs',\n",
              " 'throat_irritation',\n",
              " 'toxic_look_(typhos)',\n",
              " 'ulcers_on_tongue',\n",
              " 'unsteadiness',\n",
              " 'visual_disturbances',\n",
              " 'vomiting',\n",
              " 'watering_from_eyes',\n",
              " 'weakness_in_limbs',\n",
              " 'weakness_of_one_body_side',\n",
              " 'weight_gain',\n",
              " 'weight_loss',\n",
              " 'yellow_crust_ooze',\n",
              " 'yellow_urine',\n",
              " 'yellowing_of_eyes',\n",
              " 'yellowish_skin']"
            ]
          },
          "metadata": {},
          "execution_count": 53
        }
      ]
    },
    {
      "cell_type": "markdown",
      "source": [
        "## Description, Precaution and Symptom Severity data"
      ],
      "metadata": {
        "id": "enIg7pizDTWk"
      }
    },
    {
      "cell_type": "code",
      "source": [
        "diseases_description = pd.read_csv(\"/content/symptom_Description.csv\")\n",
        "diseases_description['Disease'] = diseases_description['Disease'].apply(lambda x: x.lower().strip(\" \"))"
      ],
      "metadata": {
        "id": "se1By11GDVuo"
      },
      "execution_count": null,
      "outputs": []
    },
    {
      "cell_type": "code",
      "source": [
        "disease_precaution = pd.read_csv(\"/content/symptom_precaution.csv\")\n",
        "disease_precaution['Disease'] = disease_precaution['Disease'].apply(lambda x: x.lower().strip(\" \"))\n",
        "disease_precaution"
      ],
      "metadata": {
        "colab": {
          "base_uri": "https://localhost:8080/",
          "height": 1000
        },
        "id": "zxw4vaqiDi-E",
        "outputId": "be0d001d-1d69-4995-83ab-8e048c198033"
      },
      "execution_count": null,
      "outputs": [
        {
          "output_type": "execute_result",
          "data": {
            "text/plain": [
              "                                    Disease  \\\n",
              "0                             drug reaction   \n",
              "1                                   malaria   \n",
              "2                                   allergy   \n",
              "3                            hypothyroidism   \n",
              "4                                 psoriasis   \n",
              "5                                      gerd   \n",
              "6                       chronic cholestasis   \n",
              "7                               hepatitis a   \n",
              "8                           osteoarthristis   \n",
              "9   (vertigo) paroymsal  positional vertigo   \n",
              "10                             hypoglycemia   \n",
              "11                                     acne   \n",
              "12                                 diabetes   \n",
              "13                                 impetigo   \n",
              "14                             hypertension   \n",
              "15                      peptic ulcer diseae   \n",
              "16             dimorphic hemmorhoids(piles)   \n",
              "17                              common cold   \n",
              "18                              chicken pox   \n",
              "19                     cervical spondylosis   \n",
              "20                          hyperthyroidism   \n",
              "21                  urinary tract infection   \n",
              "22                           varicose veins   \n",
              "23                                     aids   \n",
              "24             paralysis (brain hemorrhage)   \n",
              "25                                  typhoid   \n",
              "26                              hepatitis b   \n",
              "27                         fungal infection   \n",
              "28                              hepatitis c   \n",
              "29                                 migraine   \n",
              "30                         bronchial asthma   \n",
              "31                      alcoholic hepatitis   \n",
              "32                                 jaundice   \n",
              "33                              hepatitis e   \n",
              "34                                   dengue   \n",
              "35                              hepatitis d   \n",
              "36                             heart attack   \n",
              "37                                pneumonia   \n",
              "38                                arthritis   \n",
              "39                          gastroenteritis   \n",
              "40                             tuberculosis   \n",
              "\n",
              "                            Precaution_1                        Precaution_2  \\\n",
              "0                        stop irritation            consult nearest hospital   \n",
              "1               Consult nearest hospital                     avoid oily food   \n",
              "2                         apply calamine             cover area with bandage   \n",
              "3                          reduce stress                            exercise   \n",
              "4       wash hands with warm soapy water        stop bleeding using pressure   \n",
              "5                 avoid fatty spicy food       avoid lying down after eating   \n",
              "6                             cold baths                  anti itch medicine   \n",
              "7               Consult nearest hospital                  wash hands through   \n",
              "8                          acetaminophen            consult nearest hospital   \n",
              "9                               lie down         avoid sudden change in body   \n",
              "10                      lie down on side                      check in pulse   \n",
              "11                            bath twice              avoid fatty spicy food   \n",
              "12                    have balanced diet                            exercise   \n",
              "13      soak affected area in warm water                     use antibiotics   \n",
              "14                            meditation                          salt baths   \n",
              "15                avoid fatty spicy food              consume probiotic food   \n",
              "16                avoid fatty spicy food                 consume witch hazel   \n",
              "17           drink vitamin c rich drinks                         take vapour   \n",
              "18                  use neem in bathing                  consume neem leaves   \n",
              "19          use heating pad or cold pack                            exercise   \n",
              "20                           eat healthy                             massage   \n",
              "21                 drink plenty of water           increase vitamin c intake   \n",
              "22  lie down flat and raise the leg high                        use oinments   \n",
              "23                       avoid open cuts                wear ppe if possible   \n",
              "24                               massage                         eat healthy   \n",
              "25           eat high calorie vegitables                  antiboitic therapy   \n",
              "26              consult nearest hospital                         vaccination   \n",
              "27                            bath twice  use detol or neem in bathing water   \n",
              "28              Consult nearest hospital                         vaccination   \n",
              "29                            meditation                       reduce stress   \n",
              "30             switch to loose cloothing                   take deep breaths   \n",
              "31              stop alcohol consumption                      consult doctor   \n",
              "32                 drink plenty of water                consume milk thistle   \n",
              "33              stop alcohol consumption                                rest   \n",
              "34               drink papaya leaf juice              avoid fatty spicy food   \n",
              "35                        consult doctor                          medication   \n",
              "36                        call ambulance              chew or swallow asprin   \n",
              "37                        consult doctor                          medication   \n",
              "38                              exercise            use hot and cold therapy   \n",
              "39      stop eating solid food for while      try taking small sips of water   \n",
              "40                           cover mouth                      consult doctor   \n",
              "\n",
              "                              Precaution_3                       Precaution_4  \n",
              "0                         stop taking drug                          follow up  \n",
              "1                       avoid non veg food                 keep mosquitos out  \n",
              "2                             keep a diary        use ice to compress itching  \n",
              "3                              eat healthy                   get proper sleep  \n",
              "4                           consult doctor                         salt baths  \n",
              "5                  maintain healthy weight                           exercise  \n",
              "6                           consult doctor                        eat healthy  \n",
              "7                   avoid fatty spicy food                         medication  \n",
              "8                                follow up                         salt baths  \n",
              "9                avoid abrupt head movment                              relax  \n",
              "10                     drink sugary drinks                     consult doctor  \n",
              "11                   drink plenty of water            avoid too many products  \n",
              "12                          consult doctor                          follow up  \n",
              "13  remove scabs with wet compressed cloth                     consult doctor  \n",
              "14                           reduce stress                   get proper sleep  \n",
              "15                          eliminate milk                      limit alcohol  \n",
              "16               warm bath with epsom salt              consume alovera juice  \n",
              "17                         avoid cold food                keep fever in check  \n",
              "18                            take vaccine                avoid public places  \n",
              "19                   take otc pain reliver                     consult doctor  \n",
              "20                          use lemon balm  take radioactive iodine treatment  \n",
              "21                   drink cranberry juice                    take probiotics  \n",
              "22                    use vein compression          dont stand still for long  \n",
              "23                          consult doctor                          follow up  \n",
              "24                                exercise                     consult doctor  \n",
              "25                          consult doctor                         medication  \n",
              "26                             eat healthy                         medication  \n",
              "27                  keep infected area dry                   use clean cloths  \n",
              "28                             eat healthy                         medication  \n",
              "29             use poloroid glasses in sun                     consult doctor  \n",
              "30                   get away from trigger                          seek help  \n",
              "31                              medication                          follow up  \n",
              "32       eat fruits and high fiberous food                         medication  \n",
              "33                          consult doctor                         medication  \n",
              "34                     keep mosquitos away                      keep hydrated  \n",
              "35                             eat healthy                          follow up  \n",
              "36                               keep calm                           lie down  \n",
              "37                                    rest                          follow up  \n",
              "38                         try acupuncture                            massage  \n",
              "39                                    rest              ease back into eating  \n",
              "40                              medication                               rest  "
            ],
            "text/html": [
              "\n",
              "  <div id=\"df-10c63129-b8b8-44d1-9ae4-d8dee757ae9a\">\n",
              "    <div class=\"colab-df-container\">\n",
              "      <div>\n",
              "<style scoped>\n",
              "    .dataframe tbody tr th:only-of-type {\n",
              "        vertical-align: middle;\n",
              "    }\n",
              "\n",
              "    .dataframe tbody tr th {\n",
              "        vertical-align: top;\n",
              "    }\n",
              "\n",
              "    .dataframe thead th {\n",
              "        text-align: right;\n",
              "    }\n",
              "</style>\n",
              "<table border=\"1\" class=\"dataframe\">\n",
              "  <thead>\n",
              "    <tr style=\"text-align: right;\">\n",
              "      <th></th>\n",
              "      <th>Disease</th>\n",
              "      <th>Precaution_1</th>\n",
              "      <th>Precaution_2</th>\n",
              "      <th>Precaution_3</th>\n",
              "      <th>Precaution_4</th>\n",
              "    </tr>\n",
              "  </thead>\n",
              "  <tbody>\n",
              "    <tr>\n",
              "      <th>0</th>\n",
              "      <td>drug reaction</td>\n",
              "      <td>stop irritation</td>\n",
              "      <td>consult nearest hospital</td>\n",
              "      <td>stop taking drug</td>\n",
              "      <td>follow up</td>\n",
              "    </tr>\n",
              "    <tr>\n",
              "      <th>1</th>\n",
              "      <td>malaria</td>\n",
              "      <td>Consult nearest hospital</td>\n",
              "      <td>avoid oily food</td>\n",
              "      <td>avoid non veg food</td>\n",
              "      <td>keep mosquitos out</td>\n",
              "    </tr>\n",
              "    <tr>\n",
              "      <th>2</th>\n",
              "      <td>allergy</td>\n",
              "      <td>apply calamine</td>\n",
              "      <td>cover area with bandage</td>\n",
              "      <td>keep a diary</td>\n",
              "      <td>use ice to compress itching</td>\n",
              "    </tr>\n",
              "    <tr>\n",
              "      <th>3</th>\n",
              "      <td>hypothyroidism</td>\n",
              "      <td>reduce stress</td>\n",
              "      <td>exercise</td>\n",
              "      <td>eat healthy</td>\n",
              "      <td>get proper sleep</td>\n",
              "    </tr>\n",
              "    <tr>\n",
              "      <th>4</th>\n",
              "      <td>psoriasis</td>\n",
              "      <td>wash hands with warm soapy water</td>\n",
              "      <td>stop bleeding using pressure</td>\n",
              "      <td>consult doctor</td>\n",
              "      <td>salt baths</td>\n",
              "    </tr>\n",
              "    <tr>\n",
              "      <th>5</th>\n",
              "      <td>gerd</td>\n",
              "      <td>avoid fatty spicy food</td>\n",
              "      <td>avoid lying down after eating</td>\n",
              "      <td>maintain healthy weight</td>\n",
              "      <td>exercise</td>\n",
              "    </tr>\n",
              "    <tr>\n",
              "      <th>6</th>\n",
              "      <td>chronic cholestasis</td>\n",
              "      <td>cold baths</td>\n",
              "      <td>anti itch medicine</td>\n",
              "      <td>consult doctor</td>\n",
              "      <td>eat healthy</td>\n",
              "    </tr>\n",
              "    <tr>\n",
              "      <th>7</th>\n",
              "      <td>hepatitis a</td>\n",
              "      <td>Consult nearest hospital</td>\n",
              "      <td>wash hands through</td>\n",
              "      <td>avoid fatty spicy food</td>\n",
              "      <td>medication</td>\n",
              "    </tr>\n",
              "    <tr>\n",
              "      <th>8</th>\n",
              "      <td>osteoarthristis</td>\n",
              "      <td>acetaminophen</td>\n",
              "      <td>consult nearest hospital</td>\n",
              "      <td>follow up</td>\n",
              "      <td>salt baths</td>\n",
              "    </tr>\n",
              "    <tr>\n",
              "      <th>9</th>\n",
              "      <td>(vertigo) paroymsal  positional vertigo</td>\n",
              "      <td>lie down</td>\n",
              "      <td>avoid sudden change in body</td>\n",
              "      <td>avoid abrupt head movment</td>\n",
              "      <td>relax</td>\n",
              "    </tr>\n",
              "    <tr>\n",
              "      <th>10</th>\n",
              "      <td>hypoglycemia</td>\n",
              "      <td>lie down on side</td>\n",
              "      <td>check in pulse</td>\n",
              "      <td>drink sugary drinks</td>\n",
              "      <td>consult doctor</td>\n",
              "    </tr>\n",
              "    <tr>\n",
              "      <th>11</th>\n",
              "      <td>acne</td>\n",
              "      <td>bath twice</td>\n",
              "      <td>avoid fatty spicy food</td>\n",
              "      <td>drink plenty of water</td>\n",
              "      <td>avoid too many products</td>\n",
              "    </tr>\n",
              "    <tr>\n",
              "      <th>12</th>\n",
              "      <td>diabetes</td>\n",
              "      <td>have balanced diet</td>\n",
              "      <td>exercise</td>\n",
              "      <td>consult doctor</td>\n",
              "      <td>follow up</td>\n",
              "    </tr>\n",
              "    <tr>\n",
              "      <th>13</th>\n",
              "      <td>impetigo</td>\n",
              "      <td>soak affected area in warm water</td>\n",
              "      <td>use antibiotics</td>\n",
              "      <td>remove scabs with wet compressed cloth</td>\n",
              "      <td>consult doctor</td>\n",
              "    </tr>\n",
              "    <tr>\n",
              "      <th>14</th>\n",
              "      <td>hypertension</td>\n",
              "      <td>meditation</td>\n",
              "      <td>salt baths</td>\n",
              "      <td>reduce stress</td>\n",
              "      <td>get proper sleep</td>\n",
              "    </tr>\n",
              "    <tr>\n",
              "      <th>15</th>\n",
              "      <td>peptic ulcer diseae</td>\n",
              "      <td>avoid fatty spicy food</td>\n",
              "      <td>consume probiotic food</td>\n",
              "      <td>eliminate milk</td>\n",
              "      <td>limit alcohol</td>\n",
              "    </tr>\n",
              "    <tr>\n",
              "      <th>16</th>\n",
              "      <td>dimorphic hemmorhoids(piles)</td>\n",
              "      <td>avoid fatty spicy food</td>\n",
              "      <td>consume witch hazel</td>\n",
              "      <td>warm bath with epsom salt</td>\n",
              "      <td>consume alovera juice</td>\n",
              "    </tr>\n",
              "    <tr>\n",
              "      <th>17</th>\n",
              "      <td>common cold</td>\n",
              "      <td>drink vitamin c rich drinks</td>\n",
              "      <td>take vapour</td>\n",
              "      <td>avoid cold food</td>\n",
              "      <td>keep fever in check</td>\n",
              "    </tr>\n",
              "    <tr>\n",
              "      <th>18</th>\n",
              "      <td>chicken pox</td>\n",
              "      <td>use neem in bathing</td>\n",
              "      <td>consume neem leaves</td>\n",
              "      <td>take vaccine</td>\n",
              "      <td>avoid public places</td>\n",
              "    </tr>\n",
              "    <tr>\n",
              "      <th>19</th>\n",
              "      <td>cervical spondylosis</td>\n",
              "      <td>use heating pad or cold pack</td>\n",
              "      <td>exercise</td>\n",
              "      <td>take otc pain reliver</td>\n",
              "      <td>consult doctor</td>\n",
              "    </tr>\n",
              "    <tr>\n",
              "      <th>20</th>\n",
              "      <td>hyperthyroidism</td>\n",
              "      <td>eat healthy</td>\n",
              "      <td>massage</td>\n",
              "      <td>use lemon balm</td>\n",
              "      <td>take radioactive iodine treatment</td>\n",
              "    </tr>\n",
              "    <tr>\n",
              "      <th>21</th>\n",
              "      <td>urinary tract infection</td>\n",
              "      <td>drink plenty of water</td>\n",
              "      <td>increase vitamin c intake</td>\n",
              "      <td>drink cranberry juice</td>\n",
              "      <td>take probiotics</td>\n",
              "    </tr>\n",
              "    <tr>\n",
              "      <th>22</th>\n",
              "      <td>varicose veins</td>\n",
              "      <td>lie down flat and raise the leg high</td>\n",
              "      <td>use oinments</td>\n",
              "      <td>use vein compression</td>\n",
              "      <td>dont stand still for long</td>\n",
              "    </tr>\n",
              "    <tr>\n",
              "      <th>23</th>\n",
              "      <td>aids</td>\n",
              "      <td>avoid open cuts</td>\n",
              "      <td>wear ppe if possible</td>\n",
              "      <td>consult doctor</td>\n",
              "      <td>follow up</td>\n",
              "    </tr>\n",
              "    <tr>\n",
              "      <th>24</th>\n",
              "      <td>paralysis (brain hemorrhage)</td>\n",
              "      <td>massage</td>\n",
              "      <td>eat healthy</td>\n",
              "      <td>exercise</td>\n",
              "      <td>consult doctor</td>\n",
              "    </tr>\n",
              "    <tr>\n",
              "      <th>25</th>\n",
              "      <td>typhoid</td>\n",
              "      <td>eat high calorie vegitables</td>\n",
              "      <td>antiboitic therapy</td>\n",
              "      <td>consult doctor</td>\n",
              "      <td>medication</td>\n",
              "    </tr>\n",
              "    <tr>\n",
              "      <th>26</th>\n",
              "      <td>hepatitis b</td>\n",
              "      <td>consult nearest hospital</td>\n",
              "      <td>vaccination</td>\n",
              "      <td>eat healthy</td>\n",
              "      <td>medication</td>\n",
              "    </tr>\n",
              "    <tr>\n",
              "      <th>27</th>\n",
              "      <td>fungal infection</td>\n",
              "      <td>bath twice</td>\n",
              "      <td>use detol or neem in bathing water</td>\n",
              "      <td>keep infected area dry</td>\n",
              "      <td>use clean cloths</td>\n",
              "    </tr>\n",
              "    <tr>\n",
              "      <th>28</th>\n",
              "      <td>hepatitis c</td>\n",
              "      <td>Consult nearest hospital</td>\n",
              "      <td>vaccination</td>\n",
              "      <td>eat healthy</td>\n",
              "      <td>medication</td>\n",
              "    </tr>\n",
              "    <tr>\n",
              "      <th>29</th>\n",
              "      <td>migraine</td>\n",
              "      <td>meditation</td>\n",
              "      <td>reduce stress</td>\n",
              "      <td>use poloroid glasses in sun</td>\n",
              "      <td>consult doctor</td>\n",
              "    </tr>\n",
              "    <tr>\n",
              "      <th>30</th>\n",
              "      <td>bronchial asthma</td>\n",
              "      <td>switch to loose cloothing</td>\n",
              "      <td>take deep breaths</td>\n",
              "      <td>get away from trigger</td>\n",
              "      <td>seek help</td>\n",
              "    </tr>\n",
              "    <tr>\n",
              "      <th>31</th>\n",
              "      <td>alcoholic hepatitis</td>\n",
              "      <td>stop alcohol consumption</td>\n",
              "      <td>consult doctor</td>\n",
              "      <td>medication</td>\n",
              "      <td>follow up</td>\n",
              "    </tr>\n",
              "    <tr>\n",
              "      <th>32</th>\n",
              "      <td>jaundice</td>\n",
              "      <td>drink plenty of water</td>\n",
              "      <td>consume milk thistle</td>\n",
              "      <td>eat fruits and high fiberous food</td>\n",
              "      <td>medication</td>\n",
              "    </tr>\n",
              "    <tr>\n",
              "      <th>33</th>\n",
              "      <td>hepatitis e</td>\n",
              "      <td>stop alcohol consumption</td>\n",
              "      <td>rest</td>\n",
              "      <td>consult doctor</td>\n",
              "      <td>medication</td>\n",
              "    </tr>\n",
              "    <tr>\n",
              "      <th>34</th>\n",
              "      <td>dengue</td>\n",
              "      <td>drink papaya leaf juice</td>\n",
              "      <td>avoid fatty spicy food</td>\n",
              "      <td>keep mosquitos away</td>\n",
              "      <td>keep hydrated</td>\n",
              "    </tr>\n",
              "    <tr>\n",
              "      <th>35</th>\n",
              "      <td>hepatitis d</td>\n",
              "      <td>consult doctor</td>\n",
              "      <td>medication</td>\n",
              "      <td>eat healthy</td>\n",
              "      <td>follow up</td>\n",
              "    </tr>\n",
              "    <tr>\n",
              "      <th>36</th>\n",
              "      <td>heart attack</td>\n",
              "      <td>call ambulance</td>\n",
              "      <td>chew or swallow asprin</td>\n",
              "      <td>keep calm</td>\n",
              "      <td>lie down</td>\n",
              "    </tr>\n",
              "    <tr>\n",
              "      <th>37</th>\n",
              "      <td>pneumonia</td>\n",
              "      <td>consult doctor</td>\n",
              "      <td>medication</td>\n",
              "      <td>rest</td>\n",
              "      <td>follow up</td>\n",
              "    </tr>\n",
              "    <tr>\n",
              "      <th>38</th>\n",
              "      <td>arthritis</td>\n",
              "      <td>exercise</td>\n",
              "      <td>use hot and cold therapy</td>\n",
              "      <td>try acupuncture</td>\n",
              "      <td>massage</td>\n",
              "    </tr>\n",
              "    <tr>\n",
              "      <th>39</th>\n",
              "      <td>gastroenteritis</td>\n",
              "      <td>stop eating solid food for while</td>\n",
              "      <td>try taking small sips of water</td>\n",
              "      <td>rest</td>\n",
              "      <td>ease back into eating</td>\n",
              "    </tr>\n",
              "    <tr>\n",
              "      <th>40</th>\n",
              "      <td>tuberculosis</td>\n",
              "      <td>cover mouth</td>\n",
              "      <td>consult doctor</td>\n",
              "      <td>medication</td>\n",
              "      <td>rest</td>\n",
              "    </tr>\n",
              "  </tbody>\n",
              "</table>\n",
              "</div>\n",
              "      <button class=\"colab-df-convert\" onclick=\"convertToInteractive('df-10c63129-b8b8-44d1-9ae4-d8dee757ae9a')\"\n",
              "              title=\"Convert this dataframe to an interactive table.\"\n",
              "              style=\"display:none;\">\n",
              "        \n",
              "  <svg xmlns=\"http://www.w3.org/2000/svg\" height=\"24px\"viewBox=\"0 0 24 24\"\n",
              "       width=\"24px\">\n",
              "    <path d=\"M0 0h24v24H0V0z\" fill=\"none\"/>\n",
              "    <path d=\"M18.56 5.44l.94 2.06.94-2.06 2.06-.94-2.06-.94-.94-2.06-.94 2.06-2.06.94zm-11 1L8.5 8.5l.94-2.06 2.06-.94-2.06-.94L8.5 2.5l-.94 2.06-2.06.94zm10 10l.94 2.06.94-2.06 2.06-.94-2.06-.94-.94-2.06-.94 2.06-2.06.94z\"/><path d=\"M17.41 7.96l-1.37-1.37c-.4-.4-.92-.59-1.43-.59-.52 0-1.04.2-1.43.59L10.3 9.45l-7.72 7.72c-.78.78-.78 2.05 0 2.83L4 21.41c.39.39.9.59 1.41.59.51 0 1.02-.2 1.41-.59l7.78-7.78 2.81-2.81c.8-.78.8-2.07 0-2.86zM5.41 20L4 18.59l7.72-7.72 1.47 1.35L5.41 20z\"/>\n",
              "  </svg>\n",
              "      </button>\n",
              "      \n",
              "  <style>\n",
              "    .colab-df-container {\n",
              "      display:flex;\n",
              "      flex-wrap:wrap;\n",
              "      gap: 12px;\n",
              "    }\n",
              "\n",
              "    .colab-df-convert {\n",
              "      background-color: #E8F0FE;\n",
              "      border: none;\n",
              "      border-radius: 50%;\n",
              "      cursor: pointer;\n",
              "      display: none;\n",
              "      fill: #1967D2;\n",
              "      height: 32px;\n",
              "      padding: 0 0 0 0;\n",
              "      width: 32px;\n",
              "    }\n",
              "\n",
              "    .colab-df-convert:hover {\n",
              "      background-color: #E2EBFA;\n",
              "      box-shadow: 0px 1px 2px rgba(60, 64, 67, 0.3), 0px 1px 3px 1px rgba(60, 64, 67, 0.15);\n",
              "      fill: #174EA6;\n",
              "    }\n",
              "\n",
              "    [theme=dark] .colab-df-convert {\n",
              "      background-color: #3B4455;\n",
              "      fill: #D2E3FC;\n",
              "    }\n",
              "\n",
              "    [theme=dark] .colab-df-convert:hover {\n",
              "      background-color: #434B5C;\n",
              "      box-shadow: 0px 1px 3px 1px rgba(0, 0, 0, 0.15);\n",
              "      filter: drop-shadow(0px 1px 2px rgba(0, 0, 0, 0.3));\n",
              "      fill: #FFFFFF;\n",
              "    }\n",
              "  </style>\n",
              "\n",
              "      <script>\n",
              "        const buttonEl =\n",
              "          document.querySelector('#df-10c63129-b8b8-44d1-9ae4-d8dee757ae9a button.colab-df-convert');\n",
              "        buttonEl.style.display =\n",
              "          google.colab.kernel.accessAllowed ? 'block' : 'none';\n",
              "\n",
              "        async function convertToInteractive(key) {\n",
              "          const element = document.querySelector('#df-10c63129-b8b8-44d1-9ae4-d8dee757ae9a');\n",
              "          const dataTable =\n",
              "            await google.colab.kernel.invokeFunction('convertToInteractive',\n",
              "                                                     [key], {});\n",
              "          if (!dataTable) return;\n",
              "\n",
              "          const docLinkHtml = 'Like what you see? Visit the ' +\n",
              "            '<a target=\"_blank\" href=https://colab.research.google.com/notebooks/data_table.ipynb>data table notebook</a>'\n",
              "            + ' to learn more about interactive tables.';\n",
              "          element.innerHTML = '';\n",
              "          dataTable['output_type'] = 'display_data';\n",
              "          await google.colab.output.renderOutput(dataTable, element);\n",
              "          const docLink = document.createElement('div');\n",
              "          docLink.innerHTML = docLinkHtml;\n",
              "          element.appendChild(docLink);\n",
              "        }\n",
              "      </script>\n",
              "    </div>\n",
              "  </div>\n",
              "  "
            ]
          },
          "metadata": {},
          "execution_count": 55
        }
      ]
    },
    {
      "cell_type": "code",
      "source": [
        "symptom_severity = pd.read_csv(\"/content/Symptom-severity.csv\")\n",
        "symptom_severity = symptom_severity.applymap(lambda s: s.lower().strip(\" \").replace(\" \", \"\") if type(s) == str else s)"
      ],
      "metadata": {
        "id": "ROf24WTCDq-7"
      },
      "execution_count": null,
      "outputs": []
    },
    {
      "cell_type": "markdown",
      "source": [
        "## Building the machine learning models"
      ],
      "metadata": {
        "id": "sBiFdvprDweM"
      }
    },
    {
      "cell_type": "code",
      "source": [
        "labels = df.to_numpy()[:, :1]\n",
        "examples = df.to_numpy()[:, 1:]\n",
        "list_of_symptoms = list(df.columns)[1:]\n",
        "\n",
        "with open('/content/list_of_symptoms.pickle', 'wb') as data_file: \n",
        "    pickle.dump(list_of_symptoms, data_file)\n",
        "\n",
        "print(len(labels))\n",
        "print(len(examples))\n",
        "print(len(list_of_symptoms))"
      ],
      "metadata": {
        "colab": {
          "base_uri": "https://localhost:8080/"
        },
        "id": "SOICIkLCDxuF",
        "outputId": "bb47959c-d34e-4e5b-c256-38f68c8841d0"
      },
      "execution_count": null,
      "outputs": [
        {
          "output_type": "stream",
          "name": "stdout",
          "text": [
            "304\n",
            "304\n",
            "131\n"
          ]
        }
      ]
    },
    {
      "cell_type": "code",
      "source": [
        "#print(labels)\n",
        "print(examples)"
      ],
      "metadata": {
        "colab": {
          "base_uri": "https://localhost:8080/"
        },
        "id": "3g8QG-oqmhFu",
        "outputId": "93092ddc-275b-433a-d5da-8ab52e016f21"
      },
      "execution_count": null,
      "outputs": [
        {
          "output_type": "stream",
          "name": "stdout",
          "text": [
            "[[0 0 0 ... 0 0 0]\n",
            " [0 0 0 ... 0 0 0]\n",
            " [0 0 0 ... 0 0 0]\n",
            " ...\n",
            " [0 0 0 ... 0 0 0]\n",
            " [0 0 0 ... 0 0 0]\n",
            " [0 0 0 ... 0 0 0]]\n"
          ]
        }
      ]
    },
    {
      "cell_type": "code",
      "source": [
        "#test example\n",
        "\n",
        "symptoms = ['stomach_pain', 'headache'] \n",
        "x_test = []\n",
        "\n",
        "with open('/content/list_of_symptoms.pickle', 'rb') as data_file:\n",
        "    symptoms_list = pickle.load(data_file)\n",
        "\n",
        "for each in symptoms_list: \n",
        "    if each in symptoms:\n",
        "        x_test.append(1)\n",
        "    else: \n",
        "        x_test.append(0)\n",
        "\n",
        "x_test = np.asarray(x_test) "
      ],
      "metadata": {
        "id": "eIL4ZQhIEuOS"
      },
      "execution_count": null,
      "outputs": []
    },
    {
      "cell_type": "code",
      "source": [
        "#Cross validation function\n",
        "\n",
        "def cross_validation(X_train, y_train, X_test, y_test, model_name, parameter_range=50): \n",
        "    train_errors = []\n",
        "    test_errors = []\n",
        "    \n",
        "    parameters = np.linspace(1, parameter_range, parameter_range, dtype=int)\n",
        "    \n",
        "    for parameter in parameters: \n",
        "        if model_name == 'knn':            \n",
        "            model = KNeighborsClassifier(n_neighbors=parameter, metric='cosine')\n",
        "        elif model_name == 'logreg':\n",
        "            model = LogisticRegression(solver='liblinear', C=1/(parameter*20))\n",
        "        elif model_name == 'dctree':\n",
        "            model = DecisionTreeClassifier(splitter='random', max_depth=parameter)\n",
        "        elif model_name =='svm': \n",
        "            model = SVC(C=1/(parameter*10))\n",
        "            \n",
        "        model.fit(X_train, y_train)\n",
        "        learning_error = 1 - model.score(X_train, y_train) \n",
        "        testing_error = 1 - model.score(X_test, y_test)\n",
        "        train_errors.append(learning_error)\n",
        "        test_errors.append(testing_error)\n",
        "    \n",
        "    if model_name == 'logreg':\n",
        "        best_parameter_value = 1/(parameters[np.argmin(test_errors)]*20)\n",
        "    elif model_name == 'svm': \n",
        "        best_parameter_value = 1/(parameters[np.argmin(test_errors)]*10)\n",
        "    else: \n",
        "        best_parameter_value = parameters[np.argmin(test_errors)]\n",
        "    \n",
        "    return parameters, best_parameter_value, train_errors, test_errors"
      ],
      "metadata": {
        "id": "QcJBd4GWEbz6"
      },
      "execution_count": null,
      "outputs": []
    },
    {
      "cell_type": "code",
      "source": [
        "#kNN algorithm\n",
        "\n",
        "from sklearn.model_selection import train_test_split\n",
        "from sklearn.neighbors import KNeighborsClassifier\n",
        "\n",
        "knn = KNeighborsClassifier(n_neighbors=5, metric='cosine')\n",
        "X_train, X_test, y_train, y_test = train_test_split(examples, labels.ravel(), test_size=0.25)\n",
        "knn.fit(X_train, y_train)"
      ],
      "metadata": {
        "colab": {
          "base_uri": "https://localhost:8080/"
        },
        "id": "_pd5B9UCEl9Z",
        "outputId": "52fa95fe-8349-4470-dedb-5b316870b614"
      },
      "execution_count": null,
      "outputs": [
        {
          "output_type": "execute_result",
          "data": {
            "text/plain": [
              "KNeighborsClassifier(metric='cosine')"
            ]
          },
          "metadata": {},
          "execution_count": 61
        }
      ]
    },
    {
      "cell_type": "code",
      "source": [
        "disease = knn.predict(x_test.reshape(1,-1))[0]\n",
        "print(disease)"
      ],
      "metadata": {
        "colab": {
          "base_uri": "https://localhost:8080/"
        },
        "id": "mmBBXKSjEqHD",
        "outputId": "386281f4-35fd-4b65-d24b-87cac2dd4801"
      },
      "execution_count": null,
      "outputs": [
        {
          "output_type": "stream",
          "name": "stdout",
          "text": [
            "Paralysis (brain hemorrhage)\n"
          ]
        }
      ]
    },
    {
      "cell_type": "code",
      "source": [
        "knn.score(X_test, y_test)"
      ],
      "metadata": {
        "colab": {
          "base_uri": "https://localhost:8080/"
        },
        "id": "qugU4YI8E9Zv",
        "outputId": "b916f65d-5576-413a-e9dd-8d6d7aa80de8"
      },
      "execution_count": null,
      "outputs": [
        {
          "output_type": "execute_result",
          "data": {
            "text/plain": [
              "0.9342105263157895"
            ]
          },
          "metadata": {},
          "execution_count": 63
        }
      ]
    },
    {
      "cell_type": "code",
      "source": [
        "#Additional information about disease and precautions\n",
        "\n",
        "description = diseases_description.loc[diseases_description['Disease'] == disease.strip(\" \").lower(), 'Description'].iloc[0]\n",
        "print(description)\n",
        "\n",
        "precaution = disease_precaution[disease_precaution['Disease'] == disease.strip(\" \").lower()]\n",
        "sentence = 'Precautions: ' + precaution.Precaution_1.iloc[0] + \", \" + precaution.Precaution_2.iloc[0] + \", \" + precaution.Precaution_3.iloc[0] + \", \" + precaution.Precaution_4.iloc[0]\n",
        "print(sentence)"
      ],
      "metadata": {
        "colab": {
          "base_uri": "https://localhost:8080/"
        },
        "id": "Bq68RDGaFNVR",
        "outputId": "45fc1aaf-ab1e-4188-aa7a-1f6a192695f7"
      },
      "execution_count": null,
      "outputs": [
        {
          "output_type": "stream",
          "name": "stdout",
          "text": [
            "Intracerebral hemorrhage (ICH) is when blood suddenly bursts into brain tissue, causing damage to your brain. Symptoms usually appear suddenly during ICH. They include headache, weakness, confusion, and paralysis, particularly on one side of your body.\n",
            "Precautions: massage, eat healthy, exercise, consult doctor\n"
          ]
        }
      ]
    },
    {
      "cell_type": "code",
      "source": [
        "#Giving the advice about seeing the doctor if any of the symptoms has severity larger than 5 or if mean of all the symptoms is larger than 4\n",
        "\n",
        "symptoms = ['stomach_pain', 'headache', 'coma'] \n",
        "severity = []\n",
        "\n",
        "for each in symptoms: \n",
        "    severity.append(symptom_severity.loc[symptom_severity['Symptom'] == each.lower().strip(\" \").replace(\" \", \"\"), 'weight'].iloc[0])\n",
        "\n",
        "if np.mean(severity) > 4 or np.max(severity) > 5:\n",
        "    print(\"Considering your symptoms are severe, and Meddy isn't a real doctor, you should consider talking to one. :)\")"
      ],
      "metadata": {
        "colab": {
          "base_uri": "https://localhost:8080/"
        },
        "id": "6FIFaegdFo3V",
        "outputId": "ba5c5ce7-b530-4f0e-818e-d0097e609ea7"
      },
      "execution_count": null,
      "outputs": [
        {
          "output_type": "stream",
          "name": "stdout",
          "text": [
            "Considering your symptoms are severe, and Meddy isn't a real doctor, you should consider talking to one. :)\n"
          ]
        }
      ]
    },
    {
      "cell_type": "code",
      "source": [
        "k_range = 20\n",
        "\n",
        "fig = plt.figure(figsize=(10,4))\n",
        "\n",
        "\n",
        "k, best_k, train_errors, test_errors = cross_validation(X_train, y_train, X_test, y_test, model_name='knn')\n",
        "plt.title(f\"Optimal k = {best_k}\")\n",
        "plt.plot(k, train_errors, c='purple', label='Training error')\n",
        "plt.plot(k, test_errors, c='orange', label='Testing error')\n",
        "plt.legend()\n",
        "        \n",
        "plt.show()"
      ],
      "metadata": {
        "colab": {
          "base_uri": "https://localhost:8080/",
          "height": 281
        },
        "id": "yo-rpVqiFsMV",
        "outputId": "236d625b-ca8f-4993-e2e2-4fc66e85730d"
      },
      "execution_count": null,
      "outputs": [
        {
          "output_type": "display_data",
          "data": {
            "text/plain": [
              "<Figure size 720x288 with 1 Axes>"
            ],
            "image/png": "[encoded data removed]"
          },
          "metadata": {
            "needs_background": "light"
          }
        }
      ]
    },
    {
      "cell_type": "code",
      "source": [
        "#Decision Tree\n",
        "\n",
        "from sklearn.tree import DecisionTreeClassifier\n",
        "clf = DecisionTreeClassifier(splitter='random', max_depth=100)\n",
        "\n",
        "dc_tree = clf.fit(X_train, y_train)\n",
        "dc_tree.predict(x_test.reshape(1,-1))"
      ],
      "metadata": {
        "colab": {
          "base_uri": "https://localhost:8080/"
        },
        "id": "06OofXadF3mM",
        "outputId": "9ffb3b31-9b1f-467f-9c5d-3b93c432a2f0"
      },
      "execution_count": null,
      "outputs": [
        {
          "output_type": "execute_result",
          "data": {
            "text/plain": [
              "array(['Drug Reaction'], dtype=object)"
            ]
          },
          "metadata": {},
          "execution_count": 67
        }
      ]
    },
    {
      "cell_type": "code",
      "source": [
        "dc_tree.score(X_test, y_test)"
      ],
      "metadata": {
        "colab": {
          "base_uri": "https://localhost:8080/"
        },
        "id": "bwZuFjuVF6yc",
        "outputId": "b4f037ac-b7bb-4f50-c0e1-5482c8422b65"
      },
      "execution_count": null,
      "outputs": [
        {
          "output_type": "execute_result",
          "data": {
            "text/plain": [
              "0.6842105263157895"
            ]
          },
          "metadata": {},
          "execution_count": 68
        }
      ]
    },
    {
      "cell_type": "code",
      "source": [
        "fig = plt.figure(figsize=(10,4))\n",
        "\n",
        "depth, best_depth, train_errors, test_errors = cross_validation(X_train, y_train, X_test, y_test, model_name='dctree')\n",
        "plt.title(f\"Optimal depth = {best_depth}\")\n",
        "plt.plot(depth, train_errors, c='purple', label='Training error')\n",
        "plt.plot(depth, test_errors, c='orange', label='Testing error')\n",
        "plt.legend()\n",
        "        \n",
        "plt.show()"
      ],
      "metadata": {
        "colab": {
          "base_uri": "https://localhost:8080/",
          "height": 281
        },
        "id": "Et9uGEQqF-VE",
        "outputId": "52e74c0c-269d-48e3-b3e3-bbbf5b49e5d5"
      },
      "execution_count": null,
      "outputs": [
        {
          "output_type": "display_data",
          "data": {
            "text/plain": [
              "<Figure size 720x288 with 1 Axes>"
            ],
            "image/png": "[encoded data removed]"
          },
          "metadata": {
            "needs_background": "light"
          }
        }
      ]
    },
    {
      "cell_type": "code",
      "source": [
        "#Logistic Regression\n",
        "\n",
        "from sklearn.linear_model import LogisticRegression\n",
        "\n",
        "logreg = LogisticRegression(solver='liblinear', C=0.05)\n",
        "\n",
        "logreg.fit(X_train, y_train)\n",
        "logreg.predict(x_test.reshape(1,-1))"
      ],
      "metadata": {
        "colab": {
          "base_uri": "https://localhost:8080/"
        },
        "id": "0cCXBXzbGarS",
        "outputId": "6400a459-ed2f-43a7-ad93-964e74d0d171"
      },
      "execution_count": null,
      "outputs": [
        {
          "output_type": "execute_result",
          "data": {
            "text/plain": [
              "array(['Hypertension '], dtype=object)"
            ]
          },
          "metadata": {},
          "execution_count": 70
        }
      ]
    },
    {
      "cell_type": "code",
      "source": [
        "print(logreg.score(X_test, y_test))"
      ],
      "metadata": {
        "colab": {
          "base_uri": "https://localhost:8080/"
        },
        "id": "VJ-tce84Gf90",
        "outputId": "b9fa6aa7-4008-4ae5-a146-0d156b0b5fbb"
      },
      "execution_count": null,
      "outputs": [
        {
          "output_type": "stream",
          "name": "stdout",
          "text": [
            "0.9342105263157895\n"
          ]
        }
      ]
    },
    {
      "cell_type": "code",
      "source": [
        "fig = plt.figure(figsize=(10,4))\n",
        "\n",
        "c, best_c, train_errors, test_errors = cross_validation(X_train, y_train, X_test, y_test, model_name='logreg')\n",
        "c_reg = []\n",
        "for each in c: \n",
        "    c_reg.append(1/(each*20))\n",
        "plt.title(f\"Optimal C = {best_c}\")\n",
        "plt.plot(c_reg, train_errors, c='purple', label='Training error')\n",
        "plt.plot(c_reg, test_errors, c='orange', label='Testing error')\n",
        "plt.legend()\n",
        "        \n",
        "plt.show()"
      ],
      "metadata": {
        "colab": {
          "base_uri": "https://localhost:8080/",
          "height": 281
        },
        "id": "MXtItdvJGiVU",
        "outputId": "459954b4-85ba-4222-e859-6ce9d8fa4d83"
      },
      "execution_count": null,
      "outputs": [
        {
          "output_type": "display_data",
          "data": {
            "text/plain": [
              "<Figure size 720x288 with 1 Axes>"
            ],
            "image/png": "[encoded data removed]"
          },
          "metadata": {
            "needs_background": "light"
          }
        }
      ]
    },
    {
      "cell_type": "code",
      "source": [
        "#Support Vector Machine (SVM)\n",
        "\n",
        "from sklearn.svm import SVC\n",
        "\n",
        "svm = SVC(C=0.3)\n",
        "svm.fit(X_train, y_train)\n",
        "svm.predict(x_test.reshape(1,-1))"
      ],
      "metadata": {
        "colab": {
          "base_uri": "https://localhost:8080/"
        },
        "id": "ZrJX5uF6Gl9M",
        "outputId": "07aa8d67-dc48-452a-a072-b8a0cfcd88e1"
      },
      "execution_count": null,
      "outputs": [
        {
          "output_type": "execute_result",
          "data": {
            "text/plain": [
              "array(['Paralysis (brain hemorrhage)'], dtype=object)"
            ]
          },
          "metadata": {},
          "execution_count": 73
        }
      ]
    },
    {
      "cell_type": "code",
      "source": [
        "print(svm.score(X_test, y_test))"
      ],
      "metadata": {
        "colab": {
          "base_uri": "https://localhost:8080/"
        },
        "id": "GJIpDTf2Goid",
        "outputId": "6d62cee7-b874-438c-ea79-31a84035dc81"
      },
      "execution_count": null,
      "outputs": [
        {
          "output_type": "stream",
          "name": "stdout",
          "text": [
            "0.8026315789473685\n"
          ]
        }
      ]
    },
    {
      "cell_type": "code",
      "source": [
        "fig = plt.figure(figsize=(10,4))\n",
        "\n",
        "c, best_c, train_errors, test_errors = cross_validation(X_train, y_train, X_test, y_test, model_name='svm')\n",
        "c_reg = []\n",
        "for each in c: \n",
        "    c_reg.append(1/(each*10))\n",
        "plt.title(f\"Optimal C = {best_c}\")\n",
        "plt.plot(c_reg, train_errors, c='purple', label='Training error')\n",
        "plt.plot(c_reg, test_errors, c='orange', label='Testing error')\n",
        "plt.legend()\n",
        "        \n",
        "plt.show()"
      ],
      "metadata": {
        "colab": {
          "base_uri": "https://localhost:8080/",
          "height": 281
        },
        "id": "ZwC2FQJiGq7s",
        "outputId": "17b66845-9ccb-417b-b30e-67ff3671da19"
      },
      "execution_count": null,
      "outputs": [
        {
          "output_type": "display_data",
          "data": {
            "text/plain": [
              "<Figure size 720x288 with 1 Axes>"
            ],
            "image/png": "[encoded data removed]"
          },
          "metadata": {
            "needs_background": "light"
          }
        }
      ]
    },
    {
      "cell_type": "markdown",
      "source": [
        "## Ensemble Learning"
      ],
      "metadata": {
        "id": "_xi17_o5IIMA"
      }
    },
    {
      "cell_type": "code",
      "source": [
        "from sklearn.ensemble import StackingClassifier\n",
        "from sklearn.model_selection import cross_val_score\n",
        "from sklearn.model_selection import RepeatedStratifiedKFold\n",
        "\n",
        "def evaluate_model(model, X, y):\n",
        "    cv = RepeatedStratifiedKFold(n_repeats=3, random_state=1)\n",
        "    scores = cross_val_score(model, X, y, scoring='accuracy', cv=cv, n_jobs=-1, error_score='raise')\n",
        "    return scores\n",
        "    \n",
        "def get_stacking():\n",
        "    level0 = list()\n",
        "    level0.append(('lr', LogisticRegression(solver='liblinear', C=0.03)))\n",
        "    level0.append(('knn', KNeighborsClassifier(n_neighbors=6, metric='cosine')))\n",
        "    level0.append(('dctree', DecisionTreeClassifier(splitter='random', max_depth=34)))\n",
        "    level0.append(('svm', SVC(C=0.1)))\n",
        "\n",
        "    level1 = LogisticRegression()\n",
        "\n",
        "    model = StackingClassifier(estimators=level0, final_estimator=level1, cv=5)\n",
        "    return level0, model"
      ],
      "metadata": {
        "id": "9WrFrVsWIPcw"
      },
      "execution_count": null,
      "outputs": []
    },
    {
      "cell_type": "code",
      "source": [
        "models, model = get_stacking()\n",
        "results, names = list(), list()\n",
        "\n",
        "for each in models:\n",
        "    scores = evaluate_model(each[1], examples, labels)\n",
        "    results.append(scores)\n",
        "    names.append(each[0])\n",
        "    print('%s %f (%f)' % (each[0], np.mean(scores), np.std(scores)))\n",
        " \n",
        "ensemble_score = evaluate_model(model, examples, labels)\n",
        "results.append(ensemble_score)\n",
        "names.append('ensemble')\n",
        "print('%s %f (%f)' % ('ensemble', np.mean(ensemble_score), np.std(ensemble_score)))\n",
        "\n",
        "plt.boxplot(results, labels=names, showmeans=True)\n",
        "plt.show()"
      ],
      "metadata": {
        "colab": {
          "base_uri": "https://localhost:8080/",
          "height": 352
        },
        "id": "nTlBOmSvISd5",
        "outputId": "6618abc3-49db-4ff5-a31a-b559387cda27"
      },
      "execution_count": null,
      "outputs": [
        {
          "output_type": "stream",
          "name": "stdout",
          "text": [
            "lr 0.962714 (0.014065)\n",
            "knn 1.000000 (0.000000)\n",
            "dctree 0.607432 (0.037055)\n",
            "svm 0.185246 (0.018835)\n",
            "ensemble 0.791530 (0.058015)\n"
          ]
        },
        {
          "output_type": "display_data",
          "data": {
            "text/plain": [
              "<Figure size 432x288 with 1 Axes>"
            ],
            "image/png": "[encoded data removed]"
          },
          "metadata": {
            "needs_background": "light"
          }
        }
      ]
    },
    {
      "cell_type": "code",
      "source": [
        "#Using pickle for dumping the model\n",
        "\n",
        "model.fit(examples, labels.ravel())\n",
        "\n",
        "with open('/content/fitted_model.pickle', 'wb') as modelFile:\n",
        "    model_final = pickle.dump(model, modelFile)\n",
        "\n",
        "with open('/content/fitted_model.pickle', 'rb') as modelFile:\n",
        "    model_final = pickle.load(modelFile)\n",
        "\n",
        "predicted = model_final.predict(x_test.reshape(1, -1))[0]\n",
        "print(f'Predicted Class: {predicted}')"
      ],
      "metadata": {
        "colab": {
          "base_uri": "https://localhost:8080/"
        },
        "id": "ozAYXJNVIebF",
        "outputId": "513fc23f-1e7a-416e-903c-9ae71233f800"
      },
      "execution_count": null,
      "outputs": [
        {
          "output_type": "stream",
          "name": "stdout",
          "text": [
            "Predicted Class: Migraine\n"
          ]
        },
        {
          "output_type": "stream",
          "name": "stderr",
          "text": [
            "/usr/local/lib/python3.7/dist-packages/sklearn/linear_model/_logistic.py:818: ConvergenceWarning: lbfgs failed to converge (status=1):\n",
            "STOP: TOTAL NO. of ITERATIONS REACHED LIMIT.\n",
            "\n",
            "Increase the number of iterations (max_iter) or scale the data as shown in:\n",
            "    https://scikit-learn.org/stable/modules/preprocessing.html\n",
            "Please also refer to the documentation for alternative solver options:\n",
            "    https://scikit-learn.org/stable/modules/linear_model.html#logistic-regression\n",
            "  extra_warning_msg=_LOGISTIC_SOLVER_CONVERGENCE_MSG,\n"
          ]
        }
      ]
    }
  ]
}